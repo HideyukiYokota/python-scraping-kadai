{
 "cells": [
  {
   "cell_type": "code",
   "execution_count": 4,
   "metadata": {},
   "outputs": [
    {
     "name": "stdout",
     "output_type": "stream",
     "text": [
      "　貨物の総取扱量が国内最大の名古屋港でコンテナターミナルの搬出入などを管理するシステムがランサムウェア（身代金ウイルス）に感染し、4日からコンテナの搬出入ができなくなっていると名古屋港運協会が5日発表した。サイバー攻撃とみられ、協会は愛知県警に相談している。5日午後6時をめどにシステム復旧作業を進めており、6日午前8時半から搬出入の再開を目指している。\n",
      "\n",
      "【写真】消えた電子カルテ、お産もできない…田舎の病院を襲ったサイバー攻撃\n",
      "\n",
      "　システムは、名古屋港の港湾運送業者でつくる「名古屋港運協会」が運営。協会によると、4日午前6時半ごろ、システム障害が発生した。コンテナ置き場の空きがなくなれば、コンテナ船の入港が制限される可能性もある。\n",
      "\n",
      "　システム障害発生前に受け付けていた一部の荷物は積み下ろしを終えたが、コンテナをトレーラーに載せて港外に搬出できない状態で、港周辺で待機する車列もできたという。\n",
      "\n",
      "　名古屋港は自動車関連を中心に、年間の貨物の総取扱量が国内最大の2億トン近い。コンテナ船は家電製品や食料品、自動車部品など様々な品物を積んでおり、システムの復旧作業が長引けば、物流に大きな影響が出る恐れがある。（寺沢知海）\n"
     ]
    }
   ],
   "source": [
    "import requests\n",
    "from bs4 import BeautifulSoup\n",
    "url = 'https://news.yahoo.co.jp/articles/36ec636a37c4a8a15ba928193e95dd0b2bb95488'\n",
    "response = requests.get(url)\n",
    "soup = BeautifulSoup(response.text,'html.parser')\n",
    "title_element = soup.select_one('.yjSlinkDirectlink')\n",
    "title_text = title_element.text\n",
    "print(title_text)\n"
   ]
  },
  {
   "cell_type": "code",
   "execution_count": null,
   "metadata": {},
   "outputs": [],
   "source": []
  }
 ],
 "metadata": {
  "kernelspec": {
   "display_name": ".venv",
   "language": "python",
   "name": "python3"
  },
  "language_info": {
   "codemirror_mode": {
    "name": "ipython",
    "version": 3
   },
   "file_extension": ".py",
   "mimetype": "text/x-python",
   "name": "python",
   "nbconvert_exporter": "python",
   "pygments_lexer": "ipython3",
   "version": "3.10.11"
  },
  "orig_nbformat": 4
 },
 "nbformat": 4,
 "nbformat_minor": 2
}
