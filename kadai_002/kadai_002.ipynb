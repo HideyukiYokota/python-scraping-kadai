{
 "cells": [
  {
   "cell_type": "code",
   "execution_count": 7,
   "metadata": {},
   "outputs": [
    {
     "name": "stdout",
     "output_type": "stream",
     "text": [
      "Collecting requests\n",
      "  Using cached requests-2.31.0-py3-none-any.whl (62 kB)\n",
      "Collecting charset-normalizer<4,>=2 (from requests)\n",
      "  Using cached charset_normalizer-3.1.0-cp310-cp310-win_amd64.whl (97 kB)\n",
      "Requirement already satisfied: idna<4,>=2.5 in c:\\users\\hyokota\\desktop\\pyselenium\\.venv\\lib\\site-packages (from requests) (3.4)\n",
      "Requirement already satisfied: urllib3<3,>=1.21.1 in c:\\users\\hyokota\\desktop\\pyselenium\\.venv\\lib\\site-packages (from requests) (2.0.3)\n",
      "Requirement already satisfied: certifi>=2017.4.17 in c:\\users\\hyokota\\desktop\\pyselenium\\.venv\\lib\\site-packages (from requests) (2023.5.7)\n",
      "Installing collected packages: charset-normalizer, requests\n",
      "Successfully installed charset-normalizer-3.1.0 requests-2.31.0\n"
     ]
    },
    {
     "name": "stderr",
     "output_type": "stream",
     "text": [
      "ERROR: Could not find a version that satisfies the requirement pprint (from versions: none)\n",
      "ERROR: No matching distribution found for pprint\n",
      "ERROR: Could not find a version that satisfies the requirement getpass (from versions: none)\n",
      "ERROR: No matching distribution found for getpass\n"
     ]
    },
    {
     "name": "stdout",
     "output_type": "stream",
     "text": [
      "トラットリア ラ・テスタドゥーラ 4.3 千代田区神田須田町１丁目１３−８ 加納ビル 1階 \n",
      "伊吹や製麺 秋葉原UDX店 3.4 千代田区外神田４丁目１４−１ 秋葉原UDXレストラン街アキバイチ 2F \n",
      "とんこつラーメン 博多風龍 秋葉原総本店 3.9 千代田区外神田３丁目１５−６ \n",
      "デニーズ秋葉原中央口店 3.7 千代田区神田佐久間町１丁目８−３ ダイハツ秋葉原ビル２Ｆ \n",
      "スターバックス コーヒー アトレ秋葉原1店 3.9 千代田区外神田１丁目１７−６ アトレ秋葉原 １ \n",
      "ペッパーランチ 秋葉原店 3.8 千代田区外神田１丁目１５−１ 半田ビル 1F \n",
      "カラオケパセラ秋葉原昭和通り館 3.9 千代田区神田佐久間町２丁目１０ パセラリゾーツ 秋葉原昭和通り館 １F \n",
      "てんぷら 天芳 4 千代田区神田練塀町３−１０ \n",
      "ローストビーフ大野 秋葉原店 4.6 千代田区外神田１丁目２−３ 土屋ビル 地下1階 \n",
      "そば処 新田毎 3.5 千代田区外神田１丁目１７−６ 改札内 4階 総武線下り6番ホーム中ほど 秋葉原駅 \n",
      "回転寿司 うず潮 秋葉原店 2.8 千代田区外神田１丁目１７−６ \n",
      "カールスジュニア秋葉原中央通りレストラン 4.1 千代田区外神田４丁目４−３ 秋葉原Silビル 1階 \n",
      "雁川 3.9 千代田区外神田３丁目１０−１０ 白銀会館 Ｂ１Ｆ \n",
      "かんだやぶそば 4 千代田区神田淡路町２丁目１０ \n",
      "春日亭 秋葉原店 4 千代田区外神田３丁目１−１２ 大石ビル 1F \n",
      "いろり庵きらく 秋葉原店 3.6 千代田区千代田区神田花岡町１−９ \n",
      "カラオケパセラ秋葉原電気街店 4 千代田区外神田１丁目１３−２ パセラリゾーツ秋葉原電気街店１Ｆ \n",
      "名代 富士そば 昭和通り店 3.4 千代田区神田和泉町１−２ \n",
      "カフェ・ベローチェ 秋葉原駅東口店 3.5 千代田区神田佐久間町２丁目１９ 櫻岳ビル １階 \n",
      "肉の万世 秋葉原本店 4.1 千代田区神田須田町２丁目２１ \n"
     ]
    }
   ],
   "source": [
    "!pip install requests\n",
    "!pip install pprint\n",
    "!pip install getpass\n",
    "\n",
    "import requests\n",
    "import pprint\n",
    "from getpass import getpass\n",
    "# APIキーを指定\n",
    "api_key = getpass('APIキーを入力してください: ')\n",
    "geocoding_url = 'https://maps.googleapis.com/maps/api/geocode/json'\n",
    "\n",
    "# ジオコーディングAPIパラメーター\n",
    "geocoding_params = {\n",
    "    'address': {input('検索する駅を入力してください')},\n",
    "    'key': api_key\n",
    "}\n",
    "geocoding_response = requests.get(geocoding_url, params=geocoding_params)\n",
    "geocoding_data = geocoding_response.json()\n",
    "\n",
    "location = geocoding_data['results'][0]['geometry']['location']\n",
    "latitude = location['lat']\n",
    "longitude = location['lng']\n",
    "\n",
    "# pprint.pprint(location)\n",
    "\n",
    "places_url = 'https://maps.googleapis.com/maps/api/place/nearbysearch/json'\n",
    "# google placeパラメーター\n",
    "places_params = {\n",
    "    'location': f'{latitude},{longitude}',\n",
    "    'radius': 500,\n",
    "    'type': 'restaurant',\n",
    "    'key': api_key,\n",
    "    'language': 'ja'\n",
    "}\n",
    "\n",
    "places_response = requests.get(places_url, params=places_params)\n",
    "places_data = places_response.json()\n",
    "\n",
    "# 結果の表示\n",
    "for result in places_data['results']:\n",
    "    name = result['name']\n",
    "    vicinity = result['vicinity']\n",
    "    rating = result['rating']\n",
    "    print (f'{name} {rating} {vicinity} ')\n",
    "    "
   ]
  }
 ],
 "metadata": {
  "kernelspec": {
   "display_name": ".venv",
   "language": "python",
   "name": "python3"
  },
  "language_info": {
   "codemirror_mode": {
    "name": "ipython",
    "version": 3
   },
   "file_extension": ".py",
   "mimetype": "text/x-python",
   "name": "python",
   "nbconvert_exporter": "python",
   "pygments_lexer": "ipython3",
   "version": "3.10.11"
  },
  "orig_nbformat": 4
 },
 "nbformat": 4,
 "nbformat_minor": 2
}
