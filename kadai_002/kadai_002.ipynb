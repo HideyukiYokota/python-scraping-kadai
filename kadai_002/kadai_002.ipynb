{
 "cells": [
  {
   "cell_type": "code",
   "execution_count": 42,
   "metadata": {},
   "outputs": [
    {
     "name": "stdout",
     "output_type": "stream",
     "text": [
      "レストラン名=更科そば , 評価=3.9 ,住所=茅野市ちの７０２１ \n",
      "レストラン名=モン蓼科 レストラン , 評価=3.6 ,住所=茅野市ちの３５０２−１ \n",
      "レストラン名=そば処 茶屋 , 評価=4 ,住所=茅野市ちの３５０２−１ \n",
      "レストラン名=焼肉 但馬家 幸之助 ちの店 , 評価=3.5 ,住所=茅野市ちの横内2925–1 \n",
      "レストラン名=華亭 , 評価=3.7 ,住所=茅野市宮川茅野４４４９−１ \n",
      "レストラン名=古時計 , 評価=4.1 ,住所=茅野市仲町３−１２ \n",
      "レストラン名=山道 , 評価=3.5 ,住所=茅野市仲町８−１０ \n",
      "レストラン名=カフェ・アンダンテ , 評価=3.8 ,住所=茅野市塚原１丁目１−１ \n",
      "レストラン名=なんちゃって倶楽部 , 評価=3.9 ,住所=茅野市仲町５−１ \n",
      "レストラン名=福福屋 茅野西口駅前店 , 評価=3.4 ,住所=茅野市ちの３５０６ 茅野駅ビル 1階 \n",
      "レストラン名=みまつ , 評価=3.2 ,住所=茅野市仲町３−８ \n",
      "レストラン名=さくらさく , 評価=4.3 ,住所=茅野市ちの茅野町３０７６ \n",
      "レストラン名=紅の豚 , 評価=3.5 ,住所=茅野市仲町１１−３ \n",
      "レストラン名=真砂 , 評価=4 ,住所=茅野市塚原１丁目３−１８ \n",
      "レストラン名=小僧寿し 塚原店 , 評価=3.7 ,住所=茅野市塚原２丁目２−２６ \n",
      "レストラン名=ジャス・ティス , 評価=3.5 ,住所=茅野市ちの３０４３ \n",
      "レストラン名=慶 , 評価=4 ,住所=茅野市ちの３０４１ \n",
      "レストラン名=にし季 , 評価=4.1 ,住所=茅野市仲町５−４ \n",
      "レストラン名=イズマサゴ , 評価=3.5 ,住所=茅野市塚原１丁目３−１８ \n",
      "レストラン名=横綱 茅野店 , 評価=4.1 ,住所=茅野市ちの３０９８ \n"
     ]
    }
   ],
   "source": [
    "import requests\n",
    "import pprint\n",
    "from getpass import getpass\n",
    "# APIキーを指定\n",
    "api_key = getpass('APIキーを入力してください: ')\n",
    "geocoding_url = 'https://maps.googleapis.com/maps/api/geocode/json'\n",
    "\n",
    "# ジオコーディングAPIパラメーター\n",
    "geocoding_params = {\n",
    "    'address': {input('検索する駅を入力してください')},\n",
    "    'key': api_key\n",
    "}\n",
    "geocoding_response = requests.get(geocoding_url, params=geocoding_params)\n",
    "geocoding_data = geocoding_response.json()\n",
    "\n",
    "location = geocoding_data['results'][0]['geometry']['location']\n",
    "latitude = location['lat']\n",
    "longitude = location['lng']\n",
    "\n",
    "# pprint.pprint(location)\n",
    "\n",
    "places_url = 'https://maps.googleapis.com/maps/api/place/nearbysearch/json'\n",
    "# google placeパラメーター\n",
    "places_params = {\n",
    "    'location': f'{latitude},{longitude}',\n",
    "    'radius': 500,\n",
    "    'type': 'restaurant',\n",
    "    'key': api_key,\n",
    "    'language': 'ja'\n",
    "}\n",
    "\n",
    "places_response = requests.get(places_url, params=places_params)\n",
    "places_data = places_response.json()\n",
    "\n",
    "# 結果の表示\n",
    "for result in places_data['results']:\n",
    "    name = result['name']\n",
    "    vicinity = result['vicinity']\n",
    "    rating = result['rating']\n",
    "    print (f'レストラン名={name} , 評価={rating} ,住所={vicinity} ')\n",
    "    "
   ]
  }
 ],
 "metadata": {
  "kernelspec": {
   "display_name": ".venv",
   "language": "python",
   "name": "python3"
  },
  "language_info": {
   "codemirror_mode": {
    "name": "ipython",
    "version": 3
   },
   "file_extension": ".py",
   "mimetype": "text/x-python",
   "name": "python",
   "nbconvert_exporter": "python",
   "pygments_lexer": "ipython3",
   "version": "3.10.11"
  },
  "orig_nbformat": 4
 },
 "nbformat": 4,
 "nbformat_minor": 2
}
